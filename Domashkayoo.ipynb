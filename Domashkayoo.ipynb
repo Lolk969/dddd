{
  "nbformat": 4,
  "nbformat_minor": 0,
  "metadata": {
    "colab": {
      "provenance": [],
      "authorship_tag": "ABX9TyOhEDsVMZsusL70mltgi9cR",
      "include_colab_link": true
    },
    "kernelspec": {
      "name": "python3",
      "display_name": "Python 3"
    },
    "language_info": {
      "name": "python"
    }
  },
  "cells": [
    {
      "cell_type": "markdown",
      "metadata": {
        "id": "view-in-github",
        "colab_type": "text"
      },
      "source": [
        "<a href=\"https://colab.research.google.com/github/Lolk969/dddd/blob/main/Domashkayoo.ipynb\" target=\"_parent\"><img src=\"https://colab.research.google.com/assets/colab-badge.svg\" alt=\"Open In Colab\"/></a>"
      ]
    },
    {
      "cell_type": "code",
      "execution_count": 16,
      "metadata": {
        "colab": {
          "base_uri": "https://localhost:8080/"
        },
        "id": "mX5HXpfXqTv2",
        "outputId": "f573fff6-14bf-4656-d2de-b9a68a00f2d0"
      },
      "outputs": [
        {
          "output_type": "stream",
          "name": "stdout",
          "text": [
            "4\n",
            "chesto ne easy\n"
          ]
        }
      ],
      "source": [
        "a=int(input())\n",
        "b=2\n",
        "check=True\n",
        "while b<a:\n",
        "  if a%b==0:\n",
        "    check=False\n",
        "  b=b+1\n",
        "if a<2:\n",
        "    print(\"cheto ne easy\")\n",
        "elif check==True:\n",
        "    print(\"easy loool xddd\")\n",
        "\n",
        "else:\n",
        "    print(\"cheto ne easy\")"
      ]
    }
  ]
}